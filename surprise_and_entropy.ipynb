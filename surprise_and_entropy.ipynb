{
 "cells": [
  {
   "cell_type": "code",
   "execution_count": 2,
   "id": "053c0d3b-6220-42a0-a0f3-5da82b8592c0",
   "metadata": {},
   "outputs": [],
   "source": [
    "import numpy as np\n",
    "import matplotlib.pyplot as plt\n",
    "import pandas as pd"
   ]
  },
  {
   "cell_type": "markdown",
   "id": "c3afbbdf-f8a1-4cec-9348-68bdd08b68c7",
   "metadata": {
    "tags": []
   },
   "source": [
    "## Surprise and Entropy"
   ]
  },
  {
   "cell_type": "markdown",
   "id": "4d70ea43-b590-42c3-b487-d919a5c6ec8b",
   "metadata": {},
   "source": [
    "Let's say we're flipping a coin 10 times and 90% of the time we get heads, the probability (p) of getting heads and tails would be:"
   ]
  },
  {
   "cell_type": "code",
   "execution_count": 3,
   "id": "9bff60ab-b5c9-484e-a707-1b41256ac1fc",
   "metadata": {},
   "outputs": [],
   "source": [
    "p_heads=0.9\n",
    "p_tails=0.1"
   ]
  },
  {
   "cell_type": "markdown",
   "id": "90302540-8231-428c-ad58-3bcd404bd729",
   "metadata": {},
   "source": [
    "Since the p_heads is significantly higher than p_tails, our surprise (S) of getting tails we'll be higher than if we get heads.\n",
    "\n",
    "So now we know that there is a type of inverse relationship between p and S\n",
    "\n",
    "\n",
    "$S = log_2 (1/p)$\n",
    "\n",
    "The closer we get to zero (some event that is highly unlikely to happen), we'll be more suprised if it does happen. Conversely, we won't be surprised when something happening if its probability is 1. Let's plot this to get a better sense of it."
   ]
  },
  {
   "cell_type": "code",
   "execution_count": 8,
   "id": "12861e17-dadf-4e42-936a-7946ed6b4bce",
   "metadata": {},
   "outputs": [
    {
     "name": "stderr",
     "output_type": "stream",
     "text": [
      "C:\\Users\\BIRDPE~1\\AppData\\Local\\Temp/ipykernel_14576/4052565178.py:2: RuntimeWarning: divide by zero encountered in true_divide\n",
      "  y = np.log2(1/x)\n"
     ]
    }
   ],
   "source": [
    "x = np.linspace(0,1,10000000)\n",
    "y = np.log2(1/x)"
   ]
  },
  {
   "cell_type": "code",
   "execution_count": 24,
   "id": "e114eea4-78be-4f67-a176-c302b052cb2f",
   "metadata": {},
   "outputs": [
    {
     "data": {
      "image/png": "[encoded data removed]",
      "text/plain": [
       "<Figure size 360x360 with 1 Axes>"
      ]
     },
     "metadata": {
      "needs_background": "light"
     },
     "output_type": "display_data"
    }
   ],
   "source": [
    "fig, ax = plt.subplots(figsize = (5,5))\n",
    "plt.suptitle('Probability vs Surprise') # main (superior) title\n",
    "\n",
    "ax.plot(x,abs(y), lw=4, color='orange', linestyle='--')\n",
    "ax.set_xlabel('Probability')\n",
    "ax.set_ylabel('Surprise')\n",
    "\n",
    "ax.annotate('p = 1, so no surprises', xy=(1, 0), xytext=(0.3, 6), fontsize=13,\n",
    "            arrowprops=dict(facecolor='red', edgecolor = 'grey', shrink=0.06))\n",
    "plt.show()"
   ]
  },
  {
   "cell_type": "markdown",
   "id": "0e03b402-e9db-4608-910e-ee89eb01ff9f",
   "metadata": {},
   "source": [
    "Going back to our coin toss example, we were getting heads 90% of the time we flip it, then we can calculate the `p` and `S` of each event (heads and tails)"
   ]
  },
  {
   "cell_type": "code",
   "execution_count": 28,
   "id": "2bccc545-1927-4a99-b632-86bd200c512d",
   "metadata": {},
   "outputs": [],
   "source": [
    "p_heads=0.9\n",
    "p_tails=0.1\n",
    "\n",
    "S_heads= np.log2(1/p_heads)\n",
    "S_tails= np.log2(1/p_tails)"
   ]
  },
  {
   "cell_type": "code",
   "execution_count": 30,
   "id": "d86e977e-21c3-4030-8035-9b903acfcd27",
   "metadata": {},
   "outputs": [
    {
     "data": {
      "text/html": [
       "<div>\n",
       "<style scoped>\n",
       "    .dataframe tbody tr th:only-of-type {\n",
       "        vertical-align: middle;\n",
       "    }\n",
       "\n",
       "    .dataframe tbody tr th {\n",
       "        vertical-align: top;\n",
       "    }\n",
       "\n",
       "    .dataframe thead th {\n",
       "        text-align: right;\n",
       "    }\n",
       "</style>\n",
       "<table border=\"1\" class=\"dataframe\">\n",
       "  <thead>\n",
       "    <tr style=\"text-align: right;\">\n",
       "      <th></th>\n",
       "      <th>heads</th>\n",
       "      <th>tails</th>\n",
       "    </tr>\n",
       "  </thead>\n",
       "  <tbody>\n",
       "    <tr>\n",
       "      <th>Probability</th>\n",
       "      <td>0.90</td>\n",
       "      <td>0.10</td>\n",
       "    </tr>\n",
       "    <tr>\n",
       "      <th>Surprise</th>\n",
       "      <td>0.15</td>\n",
       "      <td>3.32</td>\n",
       "    </tr>\n",
       "  </tbody>\n",
       "</table>\n",
       "</div>"
      ],
      "text/plain": [
       "             heads  tails\n",
       "Probability   0.90   0.10\n",
       "Surprise      0.15   3.32"
      ]
     },
     "execution_count": 30,
     "metadata": {},
     "output_type": "execute_result"
    }
   ],
   "source": [
    "pd.set_option('display.float_format','{:.2f}'.format)\n",
    "\n",
    "data = {'heads':[p_heads,S_heads],'tails':[p_tails,S_tails]}\n",
    "pd.DataFrame(data, index=['Probability','Surprise'])"
   ]
  },
  {
   "cell_type": "markdown",
   "id": "e4cbf06b-34e0-4b0e-a877-62c46bebde75",
   "metadata": {},
   "source": [
    "If we flip the coin 'x' amount of times (let's say 100 times)  and want to calculate the total surprise we just sum the surprise of each toss\n",
    "\n",
    "<blockquote>\n",
    "probability of heads (p_heads) = 0.9 x num_tosses<br>  \n",
    "  \n",
    "<br> surprise of getting heads = np.log2(1/p_heads)<br>\n",
    "    \n",
    "probability of tails (p_tails) = 0.1 x num_tosses<br>\n",
    "    \n",
    "surprise of getting tails = np.log2(1/p_tails)<br>\n",
    "</blockquote>\n",
    " \n",
    "\n",
    "Formula:\n",
    "\n",
    "\\$Total Surprise = p(heads) x S(log(1/p(heads))) + p(tails) x S(log(1/p(tails)))$"
   ]
  },
  {
   "cell_type": "code",
   "execution_count": 91,
   "id": "194fb482-b857-438f-b55d-1f6ead8b4b4d",
   "metadata": {},
   "outputs": [
    {
     "name": "stdout",
     "output_type": "stream",
     "text": [
      "The total surprise in a 100 tosses will be:  46.9\n"
     ]
    }
   ],
   "source": [
    "num_tosses = 100 \n",
    "Total_surprise = ((p_heads*num_tosses)*S_heads) + ((p_tails*num_tosses)*S_tails)\n",
    "\n",
    "print('The total surprise in a {} tosses will be: '.format(num_tosses),round(Total_surprise,2))"
   ]
  },
  {
   "cell_type": "markdown",
   "id": "f04797d7-0e6b-4fec-8cf0-c3757308fe90",
   "metadata": {},
   "source": [
    "If we wanted to know the surprise per coin toss:"
   ]
  },
  {
   "cell_type": "code",
   "execution_count": null,
   "id": "19eb0714-ad8c-464b-84b7-f9586f85569f",
   "metadata": {},
   "outputs": [
    {
     "name": "stdout",
     "output_type": "stream",
     "text": [
      "Surprise per coin toss:  0.47\n"
     ]
    }
   ],
   "source": [
    "surprise_per_toss = Total_surprise / num_tosses\n",
    "print('Surprise per coin toss: ',round(surprise_per_toss,2))"
   ]
  },
  {
   "cell_type": "markdown",
   "id": "758fd837-e5dd-4126-a6c4-1479dd99f189",
   "metadata": {},
   "source": [
    "This is actually the entropy of the coin!!\n",
    "\n",
    "`Entropy = expected value of the surprise`"
   ]
  },
  {
   "cell_type": "markdown",
   "id": "683e233b-6478-4c59-a9b5-3d2451d35103",
   "metadata": {},
   "source": [
    "Entropy is just the sum of every single probability * surprise of each value "
   ]
  },
  {
   "cell_type": "code",
   "execution_count": 101,
   "id": "c23cd9e7-0031-424e-b425-9feb67868673",
   "metadata": {},
   "outputs": [
    {
     "name": "stdout",
     "output_type": "stream",
     "text": [
      "Entropy:  0.47\n"
     ]
    }
   ],
   "source": [
    "Entropy = sum([(p_heads*S_heads),(p_tails*S_tails)])\n",
    "print('Entropy: ', round(Entropy,2))"
   ]
  },
  {
   "cell_type": "markdown",
   "id": "95c9c3e9-98e3-4433-899b-245dbaac5d1e",
   "metadata": {},
   "source": [
    "So to drive this subject home, here's another example. Let's say we have a certain amount of data points and we want to calculate:\n",
    "- probability\n",
    "- surprise of each type of datapoint\n",
    "- entropy of the whole thing"
   ]
  },
  {
   "cell_type": "code",
   "execution_count": 142,
   "id": "73b8c7ca-9ccf-47e8-b500-0e4a2c778a70",
   "metadata": {},
   "outputs": [
    {
     "name": "stdout",
     "output_type": "stream",
     "text": [
      "             orange  blue\n",
      "probability    0.09  0.91\n",
      "surprise       3.46  0.14\n",
      "Total entropy:  0.44\n"
     ]
    }
   ],
   "source": [
    "orange = 1\n",
    "blue = 10\n",
    "total_datapoints = sum([orange,blue])\n",
    "\n",
    "# probability\n",
    "p_orange = orange / total_datapoints\n",
    "p_blue = blue / total_datapoints\n",
    "\n",
    "# surprise of each\n",
    "S_orange = np.log2(1/p_orange)\n",
    "S_blue = np.log2(1/p_blue)\n",
    "\n",
    "# total entropy\n",
    "Total_entropy = sum([(S_orange*p_orange),(S_blue*p_blue)])\n",
    "\n",
    "data_example = {'orange':[p_orange,S_orange],\n",
    "                           'blue':[p_blue,S_blue]}\n",
    "\n",
    "df_datap = pd.DataFrame(data_example, index=['probability','surprise'])\n",
    "print(df_datap)\n",
    "print('Total entropy: ', round(Total_entropy,2))"
   ]
  },
  {
   "cell_type": "code",
   "execution_count": 143,
   "id": "73757cbd-1b06-41b6-a2ec-04634b7c8f11",
   "metadata": {},
   "outputs": [
    {
     "data": {
      "image/png": "[encoded data removed]",
      "text/plain": [
       "<Figure size 360x360 with 1 Axes>"
      ]
     },
     "metadata": {
      "needs_background": "light"
     },
     "output_type": "display_data"
    }
   ],
   "source": [
    "fig, ax = plt.subplots(figsize = (5,5))\n",
    "plt.suptitle('Probability vs Surprise between datapoints') # main (superior) title\n",
    "\n",
    "ax.plot(p_orange,S_orange, 'o', ms='10',color='orange', label = 'orange datapoint')\n",
    "ax.plot(p_blue,S_blue, \"^\",color='blue', alpha = 0.5,label = 'blue datapoint')\n",
    "ax.legend()\n",
    "ax.grid()\n",
    "\n",
    "ax.set_xlabel('Probability')\n",
    "ax.set_ylabel('Surprise')\n",
    "plt.show()"
   ]
  },
  {
   "cell_type": "code",
   "execution_count": null,
   "id": "90d29f69-eb54-4852-93a3-d0195dc544dd",
   "metadata": {},
   "outputs": [],
   "source": []
  },
  {
   "cell_type": "code",
   "execution_count": null,
   "id": "a0e11531-9bfd-4ba3-b958-5a484e993e8c",
   "metadata": {},
   "outputs": [],
   "source": []
  }
 ],
 "metadata": {
  "kernelspec": {
   "display_name": "Python 3 (ipykernel)",
   "language": "python",
   "name": "python3"
  },
  "language_info": {
   "codemirror_mode": {
    "name": "ipython",
    "version": 3
   },
   "file_extension": ".py",
   "mimetype": "text/x-python",
   "name": "python",
   "nbconvert_exporter": "python",
   "pygments_lexer": "ipython3",
   "version": "3.10.0"
  },
  "toc-showtags": false
 },
 "nbformat": 4,
 "nbformat_minor": 5
}
